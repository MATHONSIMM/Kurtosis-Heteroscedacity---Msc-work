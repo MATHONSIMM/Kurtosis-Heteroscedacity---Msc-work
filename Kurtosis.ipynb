{
  "nbformat": 4,
  "nbformat_minor": 0,
  "metadata": {
    "colab": {
      "provenance": [],
      "toc_visible": true,
      "authorship_tag": "ABX9TyMUk0bv3cCViOeLfB1srEna",
      "include_colab_link": true
    },
    "kernelspec": {
      "name": "python3",
      "display_name": "Python 3"
    },
    "language_info": {
      "name": "python"
    }
  },
  "cells": [
    {
      "cell_type": "markdown",
      "metadata": {
        "id": "view-in-github",
        "colab_type": "text"
      },
      "source": [
        "<a href=\"https://colab.research.google.com/github/MATHONSIMM/Kurtosis-Heteroscedacity---Msc-work/blob/main/Kurtosis.ipynb\" target=\"_parent\"><img src=\"https://colab.research.google.com/assets/colab-badge.svg\" alt=\"Open In Colab\"/></a>"
      ]
    },
    {
      "cell_type": "markdown",
      "source": [
        "#Kurtosis / heteroscedasticity\n"
      ],
      "metadata": {
        "id": "c2J_M8ynEZ6R"
      }
    },
    {
      "cell_type": "markdown",
      "source": [
        "##Definition"
      ],
      "metadata": {
        "id": "MwsSVJVVHfgA"
      }
    },
    {
      "cell_type": "markdown",
      "source": [
        "Kurtosis describes a property of a distribution of probabilities. It is actually a statistical parameter which shows the heaviness of the tails as compared to the tails of a normal distribution. It answers the question of whether the distribution which is provided has outliers in the tails.\n",
        "\n",
        "### Mathematical Definition\n",
        "\n",
        "Kurtosis is defined as:\n",
        "\n",
        "\\[\n",
        "\\text{Kurtosis} = \\frac{n(n+1)}{(n-1)(n-2)(n-3)} \\sum \\left( \\frac{(X_i - \\bar{X})^4}{s^4} \\right) - \\frac{3(n-1)^2}{(n-2)(n-3)}\n",
        "\\]\n",
        "\n",
        "where:\n",
        "- \\( X_i \\) represents each data point,\n",
        "- \\( \\bar{X} \\) is the mean of the data,\n",
        "- \\( s \\) is the standard deviation, and\n",
        "- \\( n \\) is the number of data points."
      ],
      "metadata": {
        "id": "1GTYTAsWhmSp"
      }
    },
    {
      "cell_type": "markdown",
      "source": [
        "##Description"
      ],
      "metadata": {
        "id": "OYQ9ESWSjrVV"
      }
    },
    {
      "cell_type": "markdown",
      "source": [
        "The tails of the distribution are considered by kurtosis. Outliers, which can greatly bias the results and interpretations of statistical analyses, are reflected by heavy tails. Light tails means less noise points. According to DeCarlo, L.T, for symmetric unimodal distributions, positive kurtosis indicates heavy tails and peakedness relative to the normal distribution, whereas negative kurtosis indicates light tails and flatness.\n",
        "\n",
        "###Types of Kurtosis:\n",
        "\n",
        "\n",
        "\n",
        "*   Mesokurtic: A distribution that has kurtosis that is close to that of a normal distribution (kurtosis = 3). It indicates moderate tails.\n",
        "*   Leptokurtic: A distribution with kurtosis of more than 3, which means that kurtosis and a distribution with heavy tails and a sharp peak.\n",
        "*   Platykurtic: It has a kurtosis of less than 3 (negative kurtosis) and the tails are light and the peak is flatter."
      ],
      "metadata": {
        "id": "qlAef6JzjuiZ"
      }
    },
    {
      "cell_type": "markdown",
      "source": [
        "##Demonstration"
      ],
      "metadata": {
        "id": "67eGq2bNnKw_"
      }
    },
    {
      "cell_type": "markdown",
      "source": [
        "To demonstrate the concept of Kurtosis, Apple dataset will be used and pulled from yahoo finance for the past 5 years."
      ],
      "metadata": {
        "id": "tXptFLKpnV5i"
      }
    },
    {
      "cell_type": "code",
      "source": [
        "#Import libraries\n",
        "import yfinance as yf\n",
        "import pandas as pd\n",
        "import matplotlib.pyplot as plt\n",
        "import seaborn as sns\n",
        "import statsmodels.api as sm\n",
        "from scipy.stats import kurtosis, jarque_bera\n",
        "from arch import arch_model\n"
      ],
      "metadata": {
        "id": "L6LybkYFmoe7"
      },
      "execution_count": null,
      "outputs": []
    },
    {
      "cell_type": "code",
      "source": [
        "# Pull Apple stock data from Yahoo Finance for the past 5 years\n",
        "apple = yf.Ticker(\"AAPL\")\n",
        "data = apple.history(period=\"5y\")\n",
        "\n",
        "# Select the close prices for analysis\n",
        "close_prices = data['Close']"
      ],
      "metadata": {
        "id": "fjwZTZXBoIpy"
      },
      "execution_count": null,
      "outputs": []
    },
    {
      "cell_type": "markdown",
      "source": [
        "###Practical Implications:"
      ],
      "metadata": {
        "id": "cHSErk2Fp8mA"
      }
    },
    {
      "cell_type": "markdown",
      "source": [
        "\n",
        "*   Modeling and Analysis: When looking at historical financial data, it is important to separate the price levels from the returns:\n",
        "\n",
        "    - For Volatility Modeling: Daily returns, as they reflect changes in market movements and risk on a daily basis.\n",
        "\n",
        "*   Risk Management: Large kurtosis in returns will require strong risk management strategies to deal with more than normal movements in price."
      ],
      "metadata": {
        "id": "Kbnl_52HGUXb"
      }
    },
    {
      "cell_type": "code",
      "source": [
        "# Calculate daily returns\n",
        "daily_returns = close_prices.pct_change().dropna()\n",
        "\n",
        "# Calculate the kurtosis\n",
        "kurt = kurtosis(daily_returns)\n",
        "print(\"Kurtosis of Apple Daily Returns:\", kurt)"
      ],
      "metadata": {
        "colab": {
          "base_uri": "https://localhost:8080/"
        },
        "id": "bzVT_C0Oofua",
        "outputId": "fd98e459-90a1-4529-f109-ff27ec13cac4"
      },
      "execution_count": null,
      "outputs": [
        {
          "output_type": "stream",
          "name": "stdout",
          "text": [
            "Kurtosis of Apple Daily Returns: 5.188656647409561\n"
          ]
        }
      ]
    },
    {
      "cell_type": "code",
      "source": [
        "# Plot the distribution of daily returns\n",
        "plt.figure(figsize=(8, 5))\n",
        "sns.histplot(daily_returns, kde=True)\n",
        "plt.title('Distribution of Apple Daily Returns Over the Past 5 Years')\n",
        "plt.xlabel('Daily Returns')\n",
        "plt.ylabel('Frequency')\n",
        "plt.show()"
      ],
      "metadata": {
        "colab": {
          "base_uri": "https://localhost:8080/",
          "height": 487
        },
        "id": "1kRk_Vb5sGxA",
        "outputId": "68d6d63a-9ebf-4b9b-d5f3-20d823a3b770",
        "collapsed": true
      },
      "execution_count": null,
      "outputs": [
        {
          "output_type": "display_data",
          "data": {
            "text/plain": [
              "<Figure size 800x500 with 1 Axes>"
            ],
            "image/png": "[encoded data removed]"
          },
          "metadata": {}
        }
      ]
    },
    {
      "cell_type": "markdown",
      "source": [
        "###Kurtosis of Daily Returns: 5.150728651306949.\n",
        "Please noite that, we got this value at the date we ran the code, of course this value will change as it is pulled from the live hostircal data for the past 5 years.\n",
        "\n",
        "This large positive kurtosis value simply suggests that the distribution of Apple daily returns has ‘leptokurtic’ tails. A distribution where the tails of the probability distribution are fatter or longer than a normal distribution. It means the daily returns have more extreme values or outliers. High Volatility and More Risk, The daily returns frequently have large fluctuations."
      ],
      "metadata": {
        "id": "CR36P7pwi4NB"
      }
    },
    {
      "cell_type": "markdown",
      "source": [
        "##Diagnosis"
      ],
      "metadata": {
        "id": "heraqKsh5FPT"
      }
    },
    {
      "cell_type": "markdown",
      "source": [
        "###Recognizing Excess Kurtosis and Inability of GARCH Models to Capture kurtosis"
      ],
      "metadata": {
        "id": "r8Iz4sBV6AWb"
      }
    },
    {
      "cell_type": "markdown",
      "source": [
        "**Visual Inspection:**\n",
        "\n",
        "Using visualization to determine the existence of such excess kurtosis and, more importantly, the GARCH model's inability to handle it, is vital to diagnosis. By plotting the distribution of financial time series (e.g., daily returns) as a histogram with a kernel density estimate (KDE), it is easy to see whether excess kurtosis is present. It can also be seen from the plot that a high kurtosis distribution has more weight in the tails and a steeper peak."
      ],
      "metadata": {
        "id": "nnEgc_2y8bfB"
      }
    },
    {
      "cell_type": "markdown",
      "source": [
        "**Statistical Tests:**\n",
        "\n",
        "The more common approach that statistical tests are taking is to quantify kurtosis and non normality. You can find direct kurtosis calculations in statistical functions or libraries, where the value of >3 means there is a presence of excess kurtosis. Moreover, the Jarque–Bera test tests the composite null hypothesis of kurtosis equal to 3 with the alternative that it is not equal to 3, and skewness equal to 0 with the alternative that it is not equal to zero, since these two are not normality tests, although they are necessary for a normality test to be approved."
      ],
      "metadata": {
        "id": "eNDjDRG-8kDB"
      }
    },
    {
      "cell_type": "code",
      "source": [
        "# Pull Apple stock data from Yahoo Finance for the past 5 years\n",
        "apple = yf.Ticker(\"AAPL\")\n",
        "data = apple.history(period=\"5y\")\n",
        "close_prices = data['Close']\n",
        "\n",
        "# Calculate daily returns\n",
        "daily_returns = close_prices.pct_change().dropna()\n",
        "\n",
        "# Calculate kurtosis\n",
        "kurtosis_value = kurtosis(daily_returns)\n",
        "print(\"Kurtosis of Daily Returns:\", kurtosis_value)\n",
        "\n",
        "# Jarque-Bera test\n",
        "jb_stat, jb_pvalue = jarque_bera(daily_returns)\n",
        "print(\"Jarque-Bera Test Statistic:\", jb_stat)\n",
        "print(\"Jarque-Bera Test p-value:\", jb_pvalue)"
      ],
      "metadata": {
        "colab": {
          "base_uri": "https://localhost:8080/"
        },
        "id": "g2TM9n474Qgc",
        "outputId": "b68533dd-a928-4f85-c9fd-83d3efc4ec18",
        "collapsed": true
      },
      "execution_count": null,
      "outputs": [
        {
          "output_type": "stream",
          "name": "stdout",
          "text": [
            "Kurtosis of Daily Returns: 5.188656647409561\n",
            "Jarque-Bera Test Statistic: 1411.7166920422821\n",
            "Jarque-Bera Test p-value: 2.81588761493692e-307\n"
          ]
        }
      ]
    },
    {
      "cell_type": "markdown",
      "source": [
        "**Model Diagnostics:**\n",
        "\n",
        "Estimating GARCH parameters, and examining residual of the GARCH model applied to financial time series data. If the residuals are heavy tailed or show high excess kurtosis then it suggests that the GARCH model(s) used above may not have captured all of the excess kurtosis present in the data. Kurtosis may be calculated from standardized residuals normalized using conditional standard deviation, to check the adequacy of the model.\n",
        "\n",
        "**Alternative Model Fitting:**\n",
        "\n",
        "One solution for this non-normality would be to fit alternative models that are capable of dealing with excess kurtosis, such as GARCH models assuming heavy-tailed error distributions like the t-distribution or Generalized Error Distribution (GED). Likelihood ratio tests can be used to compare these models with the standard GARCHmodel in terms of their ability to capture the excess kurtosis of the data."
      ],
      "metadata": {
        "id": "gcAXImFX88Jq"
      }
    },
    {
      "cell_type": "code",
      "source": [
        "# Fit GARCH(1,1) model\n",
        "model = arch_model(daily_returns, vol='Garch', p=1, q=1)\n",
        "garch_fit = model.fit(disp='off')\n",
        "print(garch_fit.summary())\n",
        "\n",
        "# Standardized residuals\n",
        "standardized_residuals = garch_fit.resid / garch_fit.conditional_volatility\n",
        "\n",
        "# Kurtosis of standardized residuals\n",
        "residuals_kurtosis = kurtosis(standardized_residuals)\n",
        "print(\"Kurtosis of Standardized Residuals:\", residuals_kurtosis)"
      ],
      "metadata": {
        "colab": {
          "base_uri": "https://localhost:8080/"
        },
        "id": "PnwOSgdv5gYi",
        "outputId": "cddf70c4-4eac-4563-d842-e49c73e28a55",
        "collapsed": true
      },
      "execution_count": null,
      "outputs": [
        {
          "output_type": "stream",
          "name": "stdout",
          "text": [
            "                     Constant Mean - GARCH Model Results                      \n",
            "==============================================================================\n",
            "Dep. Variable:                  Close   R-squared:                       0.000\n",
            "Mean Model:             Constant Mean   Adj. R-squared:                  0.000\n",
            "Vol Model:                      GARCH   Log-Likelihood:                3290.90\n",
            "Distribution:                  Normal   AIC:                          -6573.81\n",
            "Method:            Maximum Likelihood   BIC:                          -6553.26\n",
            "                                        No. Observations:                 1258\n",
            "Date:                Tue, Jun 04 2024   Df Residuals:                     1257\n",
            "Time:                        20:53:23   Df Model:                            1\n",
            "                                 Mean Model                                 \n",
            "============================================================================\n",
            "                 coef    std err          t      P>|t|      95.0% Conf. Int.\n",
            "----------------------------------------------------------------------------\n",
            "mu         2.0008e-03  5.077e-04      3.941  8.119e-05 [1.006e-03,2.996e-03]\n",
            "                              Volatility Model                              \n",
            "============================================================================\n",
            "                 coef    std err          t      P>|t|      95.0% Conf. Int.\n",
            "----------------------------------------------------------------------------\n",
            "omega      7.9424e-06  2.433e-11  3.264e+05      0.000 [7.942e-06,7.942e-06]\n",
            "alpha[1]       0.1000  2.362e-02      4.233  2.301e-05   [5.370e-02,  0.146]\n",
            "beta[1]        0.8800  1.961e-02     44.869      0.000     [  0.842,  0.918]\n",
            "============================================================================\n",
            "\n",
            "Covariance estimator: robust\n",
            "Kurtosis of Standardized Residuals: 1.7884215685645684\n"
          ]
        },
        {
          "output_type": "stream",
          "name": "stderr",
          "text": [
            "/usr/local/lib/python3.10/dist-packages/arch/univariate/base.py:311: DataScaleWarning: y is poorly scaled, which may affect convergence of the optimizer when\n",
            "estimating the model parameters. The scale of y is 0.0003971. Parameter\n",
            "estimation work better when this value is between 1 and 1000. The recommended\n",
            "rescaling is 100 * y.\n",
            "\n",
            "This warning can be disabled by either rescaling y before initializing the\n",
            "model or by setting rescale=False.\n",
            "\n",
            "  warnings.warn(\n"
          ]
        }
      ]
    },
    {
      "cell_type": "markdown",
      "source": [
        "**Empirical Tests:**\n",
        "\n",
        "Empirical tests include backtesting the Value at Risk (VaR) and Expected Shortfall (ES) measures generated by the GARCH model to ascertain the extent to which the model can predict extreme events. If the number of VaR violations is even much more than 5% than there is something seriously wrong with the model in a sense that it has unmodelled excess kurtosis and you need to move to some other model or risk management strategy."
      ],
      "metadata": {
        "id": "-7SRfVDQ9OGi"
      }
    },
    {
      "cell_type": "markdown",
      "source": [
        "##Damage"
      ],
      "metadata": {
        "id": "SPW0uKpg9-Ga"
      }
    },
    {
      "cell_type": "markdown",
      "source": [
        "The absence of excess kurtosis in the time series data of finance, what a GARCH model might fail to embody, a model can lead to the following negative consequences:\n",
        "\n",
        "**Inaccurate Risk Assessments:**\n",
        "\n",
        "Ignoring excess kurtosis leads to the flawed risk measures, notably the estimation of VaR and ES. VaR models from GARCH may operate on sub-optimal conditions and from risk perspectives may be myopic due to underestimation of tail risk. This may expose investors and financial institutions to unanticipated losses at times of market turbulence (Bai, J. and Ng, S., 2005).\n",
        "\n",
        "**Poor Portfolio Management:**\n",
        "\n",
        "According to Auer, B.R, Ignoring the unmodeled excess kurtosis, leads to misestimation of risk, resulting in inappropriate and inefficient portfolio management actions. Portfolios built from such low-valued risk metrics yield portfolios that are too concentrated in the extreme tails of the assets return distributions, and are thus highly likely to sustain large losses during times of market distress. This can lead to poor resource allocation, lower portfolio performance or both.\n",
        "\n",
        "**Poor Hedging Techniques:**\n",
        "\n",
        "GARCH models are very frequently relied upon for volatility estimation in the financial markets as well as in the design of hedging strategies. Nevertheless, the inability to capture extreme higher moments will make hedging strategies less powerful. Failure to provide sufficient coverage when performing hedging positions is a consequence of the use of the wrong estimates of volatility, leading to financial losses for the hedgers concerning the most extreme market instances.\n",
        "\n",
        "**Increased Systemic Risk:**\n",
        "\n",
        "Over time the collective effect of the poor risk including incorrect assessments if the risks and as a result bad risk management can lead to an overall market that carries a greater systemic risk. If excess kurtosis were not accounted for properly, the result would be worse market instability — potentially even leading to contagion effects and systemic crises. This creates the kinds of systemic risks that can send the broader economy and financial system into downward spirals, leading to severe economic contractions and widespread financial dysfunction."
      ],
      "metadata": {
        "id": "xrVZcBoX-DVy"
      }
    },
    {
      "cell_type": "markdown",
      "source": [
        "##Directions"
      ],
      "metadata": {
        "id": "ghFFO_HZAlSC"
      }
    },
    {
      "cell_type": "markdown",
      "source": [
        "So, in order to control the skewness clumping and make more accurate financial modeling and risk assessment, let's take a look at some of the methods we have at our disposal for inventory management:\n",
        "\n",
        "**GARCH with Heavy-Tailed Distributions:**\n",
        "\n",
        "Use GARCH models with heavy tailed error distributions, (eg Student´s t-distribution, Generalized Error Distribution (GED)). These models are more complex and are designed to capture the excess kurtosis observed in financial time series data so they could give us more accurate estimates of volatility and thus risk.\n",
        "\n",
        "**Nonlinear Models:**\n",
        "\n",
        "Investigate the nonlinear models, which the threshold autoregressive (TAR) models or the regime-switching models, where the parameters or the dynamics can change given some threshold or regimes. These models thereby can model non-linearity and regime shifts which are common in financial time series data e.g., periods of volatility clustering and excess kurtosis.\n",
        "\n",
        "**Machine Learning Techniques:**\n",
        "\n",
        "See how machine learning machines for financial time series data including neural networks, random forests, or support vector machines. These methods are adaptable to nonlinear relationships, as well as intricate data structures (such as the aforementioned excess kurtosis present in my data) and, taken together, can potentially outperform a traditional econometric model like GARCH in many contexts.\n",
        "\n",
        "**Robust Estimation Techniques:**\n",
        "\n",
        "Advising: if these conditions are a concern, think about using a technique of robust to extreme values or departure from normality of the data (M-estimation, for example or quantilinear regression) that is not as sensitive to these things as OLS. Robust estimators are more resilient against the influence of extreme observations ands allow parameters to be more accurately estimated with larger values of excess kurtosis."
      ],
      "metadata": {
        "id": "LfmiqVc7Apbb"
      }
    },
    {
      "cell_type": "markdown",
      "source": [
        "##References"
      ],
      "metadata": {
        "id": "rTTZF-tUj7rj"
      }
    },
    {
      "cell_type": "markdown",
      "source": [
        "1. DeCarlo, L.T., 1997. On the meaning and use of kurtosis. Psychological methods, 2(3), p.292.\n",
        "2. Angelidis, T., Benos, A. and Degiannakis, S., 2004. The use of GARCH models in VaR estimation. Statistical methodology, 1(1-2), pp.105-128.\n",
        "3. Purchase, M.A., 2023. Analysing GARCH models across different sample sizes (Doctoral dissertation, Stellenbosch: Stellenbosch University).\n",
        "4. https://finance.yahoo.com/\n",
        "5. Bai, J. and Ng, S., 2005. Tests for skewness, kurtosis, and normality for time series data. Journal of Business & Economic Statistics, 23(1), pp.49-60.\n",
        "6. Auer, B.R., 2015. Superstitious seasonality in precious metals markets? Evidence from GARCH models with time-varying skewness and kurtosis. Applied Economics, 47(27), pp.2844-2859."
      ],
      "metadata": {
        "id": "SKtXcslyj-2S"
      }
    }
  ]
}